{
 "cells": [
  {
   "cell_type": "markdown",
   "metadata": {},
   "source": [
    "## IMDB Movie Review Sentiment Analysis"
   ]
  },
  {
   "cell_type": "code",
   "execution_count": 9,
   "metadata": {},
   "outputs": [],
   "source": [
    "from bs4 import BeautifulSoup\n",
    "import re, string, unicodedata\n",
    "\n",
    "def strip_html(text):\n",
    "    soup = BeautifulSoup(text, \"html.parser\")\n",
    "    return soup.get_text()\n",
    "\n",
    "def remove_between_square_brackets(text):\n",
    "    return re.sub('\\[[^]]*\\]', '', text)\n",
    "\n",
    "def regular_preprocess(text):\n",
    "    text = strip_html(text)\n",
    "    text = remove_between_square_brackets(text)\n",
    "    return text\n",
    "\n",
    "def advanced_preprocess(text):\n",
    "    return text\n",
    "\n",
    "def preprocess(data, advanced=False):\n",
    "    refined_data=[]\n",
    "\n",
    "    if advanced:\n",
    "        for data_point in data:\n",
    "            refined_data.append(advanced_preprocess(data_point))\n",
    "    else:\n",
    "        for data_point in data:\n",
    "            refined_data.append(regular_preprocess(data_point))\n",
    "\n",
    "    return refined_data\n"
   ]
  },
  {
   "cell_type": "code",
   "execution_count": 20,
   "metadata": {},
   "outputs": [],
   "source": [
    "# copy contents of all files in both folders into a list\n",
    "import glob\n",
    "import os\n",
    "from preprocessing import *\n",
    "from sklearn.model_selection import train_test_split\n",
    "\n",
    "train_data = []\n",
    "test_data = []\n",
    "\n",
    "# train data\n",
    "train_neg = glob.glob(os.path.join(os.getcwd(), \"Dataset/train/neg\", \"*.txt\"))\n",
    "for f_path in train_neg:\n",
    "    with open(f_path) as f:\n",
    "        train_data.append(f.read())\n",
    "\n",
    "train_pos = glob.glob(os.path.join(os.getcwd(), \"Dataset/train/pos\", \"*.txt\"))\n",
    "for f_path in train_pos:\n",
    "    with open(f_path) as f:\n",
    "        train_data.append(f.read())\n",
    "# print(train_data[0])\n",
    "# print(preprocess(train_data[0]))\n",
    "\n",
    "# test data\n",
    "test_files = glob.glob(os.path.join(os.getcwd(), \"Dataset/test\", \"*.txt\"))\n",
    "for f_path in test_files:\n",
    "    with open(f_path) as f:\n",
    "        test_data.append(f.read())\n",
    "\n",
    "# targets: first 12500 are pos, next 12500 are neg\n",
    "targets = [1 if i<12500 else 0 for i in range(25000)]\n",
    "\n",
    "train_data_clean = preprocess(train_data, advanced=False)\n",
    "test_data_clean = preprocess(test_data, advanced=False)\n",
    "\n",
    "# splitting the data\n",
    "X_train, X_validation, y_train, y_validation = train_test_split(train_data, targets, train_size=0.8, test_size=0.2)\n",
    "# print(train_data_clean[0])\n",
    "# print(test_data_clean[0])\n",
    "# print(y_train[0])"
   ]
  },
  {
   "cell_type": "code",
   "execution_count": 21,
   "metadata": {},
   "outputs": [],
   "source": [
    "from sklearn.feature_extraction.text import CountVectorizer\n",
    "from sklearn.feature_extraction.text import TfidfTransformer\n",
    "from sklearn.preprocessing import Normalizer\n",
    "from sklearn import metrics\n",
    "\n",
    "# Bag of Words vectorization\n",
    "cv = CountVectorizer().fit(X_train)\n",
    "X_train_counts = cv.transform(X_train)\n",
    "X_validation_counts = cv.transform(X_validation)\n",
    "\n",
    "# tfidf\n",
    "tfidf_transformer = TfidfTransformer().fit(X_train_counts)\n",
    "X_train_tfidf = tfidf_transformer.transform(X_train_counts)\n",
    "X_validation_tfidf = tfidf_transformer.transform(X_validation_counts)\n",
    "\n",
    "# normalization\n",
    "normalizer_tranformer = Normalizer().fit(X=X_train_tfidf)\n",
    "X_train_normalized = normalizer_tranformer.transform(X_train_tfidf)\n",
    "X_validation_normalized = normalizer_tranformer.transform(X_validation_tfidf)"
   ]
  },
  {
   "cell_type": "code",
   "execution_count": 34,
   "metadata": {},
   "outputs": [
    {
     "name": "stdout",
     "output_type": "stream",
     "text": [
      "              precision    recall  f1-score   support\n",
      "\n",
      "           0       0.89      0.84      0.87      2523\n",
      "           1       0.85      0.89      0.87      2477\n",
      "\n",
      "   micro avg       0.87      0.87      0.87      5000\n",
      "   macro avg       0.87      0.87      0.87      5000\n",
      "weighted avg       0.87      0.87      0.87      5000\n",
      "\n",
      "Accuracy % =  0.868\n"
     ]
    }
   ],
   "source": [
    "from sklearn.naive_bayes import MultinomialNB\n",
    "\n",
    "clf_NB = MultinomialNB().fit(X_train_normalized, y_train)\n",
    "y_pred = clf_NB.predict(X_validation_normalized)\n",
    "\n",
    "print(metrics.classification_report(y_validation, y_pred))\n",
    "print(\"Accuracy % = \", metrics.accuracy_score(y_validation, y_pred))"
   ]
  },
  {
   "cell_type": "code",
   "execution_count": 36,
   "metadata": {},
   "outputs": [
    {
     "name": "stdout",
     "output_type": "stream",
     "text": [
      "              precision    recall  f1-score   support\n",
      "\n",
      "           0       0.89      0.90      0.89      2523\n",
      "           1       0.90      0.88      0.89      2477\n",
      "\n",
      "   micro avg       0.89      0.89      0.89      5000\n",
      "   macro avg       0.89      0.89      0.89      5000\n",
      "weighted avg       0.89      0.89      0.89      5000\n",
      "\n",
      "Accuracy % =  0.89\n"
     ]
    }
   ],
   "source": [
    "from sklearn.linear_model import LogisticRegression\n",
    "\n",
    "clf_LR = LogisticRegression().fit(X_train_normalized, y_train)\n",
    "y_pred = clf_LR.predict(X_validation_normalized)\n",
    "\n",
    "print(metrics.classification_report(y_validation, y_pred))\n",
    "print(\"Accuracy % = \", metrics.accuracy_score(y_validation, y_pred))"
   ]
  },
  {
   "cell_type": "code",
   "execution_count": 37,
   "metadata": {},
   "outputs": [
    {
     "name": "stdout",
     "output_type": "stream",
     "text": [
      "              precision    recall  f1-score   support\n",
      "\n",
      "           0       0.71      0.70      0.70      2523\n",
      "           1       0.70      0.70      0.70      2477\n",
      "\n",
      "   micro avg       0.70      0.70      0.70      5000\n",
      "   macro avg       0.70      0.70      0.70      5000\n",
      "weighted avg       0.70      0.70      0.70      5000\n",
      "\n",
      "Accuracy % =  0.7018\n"
     ]
    }
   ],
   "source": [
    "from sklearn.tree import DecisionTreeClassifier\n",
    "\n",
    "clf_DT = DecisionTreeClassifier().fit(X_train_normalized, y_train)\n",
    "y_pred = clf_DT.predict(X_validation_normalized)\n",
    "\n",
    "print(metrics.classification_report(y_validation, y_pred))\n",
    "print(\"Accuracy % = \", metrics.accuracy_score(y_validation, y_pred))"
   ]
  },
  {
   "cell_type": "code",
   "execution_count": 39,
   "metadata": {},
   "outputs": [
    {
     "name": "stdout",
     "output_type": "stream",
     "text": [
      "              precision    recall  f1-score   support\n",
      "\n",
      "           0       0.90      0.91      0.90      2523\n",
      "           1       0.90      0.90      0.90      2477\n",
      "\n",
      "   micro avg       0.90      0.90      0.90      5000\n",
      "   macro avg       0.90      0.90      0.90      5000\n",
      "weighted avg       0.90      0.90      0.90      5000\n",
      "\n",
      "Accuracy % =  0.901\n"
     ]
    }
   ],
   "source": [
    "from sklearn.svm import LinearSVC\n",
    "\n",
    "clf_SVM = LinearSVC().fit(X_train_normalized, y_train)\n",
    "y_pred = clf_SVM.predict(X_validation_normalized)\n",
    "\n",
    "print(metrics.classification_report(y_validation, y_pred))\n",
    "print(\"Accuracy % = \", metrics.accuracy_score(y_validation, y_pred))"
   ]
  },
  {
   "cell_type": "code",
   "execution_count": null,
   "metadata": {},
   "outputs": [],
   "source": []
  }
 ],
 "metadata": {
  "kernelspec": {
   "display_name": "Python 3",
   "language": "python",
   "name": "python3"
  },
  "language_info": {
   "codemirror_mode": {
    "name": "ipython",
    "version": 3
   },
   "file_extension": ".py",
   "mimetype": "text/x-python",
   "name": "python",
   "nbconvert_exporter": "python",
   "pygments_lexer": "ipython3",
   "version": "3.7.2"
  }
 },
 "nbformat": 4,
 "nbformat_minor": 2
}
